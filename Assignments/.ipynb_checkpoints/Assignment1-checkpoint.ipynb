{
 "cells": [
  {
   "cell_type": "code",
   "execution_count": 1,
   "metadata": {},
   "outputs": [],
   "source": [
    "#import all neeeded libraries\n",
    "import pandas as pd\n",
    "import numpy as np\n",
    "import matplotlib.pyplot as plt\n",
    "import scipy.stats as sp\n",
    "from sklearn.preprocessing import LabelEncoder\n",
    "from sklearn.preprocessing import MinMaxScaler#look at formula\n",
    "import seaborn as sns"
   ]
  },
  {
   "cell_type": "code",
   "execution_count": 2,
   "metadata": {},
   "outputs": [],
   "source": [
    "df = pd.read_csv(r\"Video_Store.tsv\", delimiter = \"\\t\")"
   ]
  },
  {
   "cell_type": "code",
   "execution_count": 3,
   "metadata": {},
   "outputs": [
    {
     "data": {
      "text/html": [
       "<div>\n",
       "<style scoped>\n",
       "    .dataframe tbody tr th:only-of-type {\n",
       "        vertical-align: middle;\n",
       "    }\n",
       "\n",
       "    .dataframe tbody tr th {\n",
       "        vertical-align: top;\n",
       "    }\n",
       "\n",
       "    .dataframe thead th {\n",
       "        text-align: right;\n",
       "    }\n",
       "</style>\n",
       "<table border=\"1\" class=\"dataframe\">\n",
       "  <thead>\n",
       "    <tr style=\"text-align: right;\">\n",
       "      <th></th>\n",
       "      <th>Cust ID</th>\n",
       "      <th>Gender</th>\n",
       "      <th>Income</th>\n",
       "      <th>Age</th>\n",
       "      <th>Rentals</th>\n",
       "      <th>Avg Per Visit</th>\n",
       "      <th>Incidentals</th>\n",
       "      <th>Genre</th>\n",
       "    </tr>\n",
       "  </thead>\n",
       "  <tbody>\n",
       "    <tr>\n",
       "      <th>0</th>\n",
       "      <td>1</td>\n",
       "      <td>M</td>\n",
       "      <td>$45,000</td>\n",
       "      <td>25</td>\n",
       "      <td>27</td>\n",
       "      <td>2.5</td>\n",
       "      <td>Yes</td>\n",
       "      <td>Action</td>\n",
       "    </tr>\n",
       "    <tr>\n",
       "      <th>1</th>\n",
       "      <td>2</td>\n",
       "      <td>F</td>\n",
       "      <td>$54,000</td>\n",
       "      <td>33</td>\n",
       "      <td>12</td>\n",
       "      <td>3.4</td>\n",
       "      <td>No</td>\n",
       "      <td>Drama</td>\n",
       "    </tr>\n",
       "    <tr>\n",
       "      <th>2</th>\n",
       "      <td>3</td>\n",
       "      <td>F</td>\n",
       "      <td>$32,000</td>\n",
       "      <td>20</td>\n",
       "      <td>42</td>\n",
       "      <td>1.6</td>\n",
       "      <td>No</td>\n",
       "      <td>Comedy</td>\n",
       "    </tr>\n",
       "    <tr>\n",
       "      <th>3</th>\n",
       "      <td>4</td>\n",
       "      <td>F</td>\n",
       "      <td>$59,000</td>\n",
       "      <td>70</td>\n",
       "      <td>16</td>\n",
       "      <td>4.2</td>\n",
       "      <td>Yes</td>\n",
       "      <td>Drama</td>\n",
       "    </tr>\n",
       "    <tr>\n",
       "      <th>4</th>\n",
       "      <td>5</td>\n",
       "      <td>M</td>\n",
       "      <td>$37,000</td>\n",
       "      <td>35</td>\n",
       "      <td>25</td>\n",
       "      <td>3.2</td>\n",
       "      <td>Yes</td>\n",
       "      <td>Action</td>\n",
       "    </tr>\n",
       "  </tbody>\n",
       "</table>\n",
       "</div>"
      ],
      "text/plain": [
       "   Cust ID Gender   Income  Age  Rentals  Avg Per Visit Incidentals   Genre\n",
       "0        1      M  $45,000   25       27            2.5         Yes  Action\n",
       "1        2      F  $54,000   33       12            3.4          No   Drama\n",
       "2        3      F  $32,000   20       42            1.6          No  Comedy\n",
       "3        4      F  $59,000   70       16            4.2         Yes   Drama\n",
       "4        5      M  $37,000   35       25            3.2         Yes  Action"
      ]
     },
     "execution_count": 3,
     "metadata": {},
     "output_type": "execute_result"
    }
   ],
   "source": [
    "df.head()"
   ]
  },
  {
   "cell_type": "markdown",
   "metadata": {},
   "source": [
    "# 1\n",
    "### How many features are there? \n",
    "There are 8 features and 50 observations."
   ]
  },
  {
   "cell_type": "code",
   "execution_count": 4,
   "metadata": {},
   "outputs": [
    {
     "data": {
      "text/plain": [
       "(50, 8)"
      ]
     },
     "execution_count": 4,
     "metadata": {},
     "output_type": "execute_result"
    }
   ],
   "source": [
    "df.shape"
   ]
  },
  {
   "cell_type": "markdown",
   "metadata": {},
   "source": [
    "# 2\n",
    "### How many features are continuous, and how many are nominal?\n",
    "\n",
    "Nominal Data would be Gender, Indidentals and Genre, \n",
    "while Cust ID, Income, Age,Rentals, Avg Per visit are all continuous.\n",
    "\n",
    "There are 3 nominal and 5 continous"
   ]
  },
  {
   "cell_type": "code",
   "execution_count": 5,
   "metadata": {
    "scrolled": true
   },
   "outputs": [
    {
     "data": {
      "text/plain": [
       "Cust ID            int64\n",
       "Gender            object\n",
       "Income            object\n",
       "Age                int64\n",
       "Rentals            int64\n",
       "Avg Per Visit    float64\n",
       "Incidentals       object\n",
       "Genre             object\n",
       "dtype: object"
      ]
     },
     "execution_count": 5,
     "metadata": {},
     "output_type": "execute_result"
    }
   ],
   "source": [
    "df.dtypes"
   ]
  },
  {
   "cell_type": "code",
   "execution_count": 6,
   "metadata": {},
   "outputs": [
    {
     "data": {
      "text/plain": [
       "Cust ID          0\n",
       "Gender           0\n",
       "Income           0\n",
       "Age              0\n",
       "Rentals          0\n",
       "Avg Per Visit    0\n",
       "Incidentals      0\n",
       "Genre            0\n",
       "dtype: int64"
      ]
     },
     "execution_count": 6,
     "metadata": {},
     "output_type": "execute_result"
    }
   ],
   "source": [
    "#make sure there arent any null values\n",
    "df.isnull().sum()"
   ]
  },
  {
   "cell_type": "code",
   "execution_count": 7,
   "metadata": {},
   "outputs": [
    {
     "data": {
      "text/html": [
       "<div>\n",
       "<style scoped>\n",
       "    .dataframe tbody tr th:only-of-type {\n",
       "        vertical-align: middle;\n",
       "    }\n",
       "\n",
       "    .dataframe tbody tr th {\n",
       "        vertical-align: top;\n",
       "    }\n",
       "\n",
       "    .dataframe thead th {\n",
       "        text-align: right;\n",
       "    }\n",
       "</style>\n",
       "<table border=\"1\" class=\"dataframe\">\n",
       "  <thead>\n",
       "    <tr style=\"text-align: right;\">\n",
       "      <th></th>\n",
       "      <th>Cust ID</th>\n",
       "      <th>Age</th>\n",
       "      <th>Rentals</th>\n",
       "      <th>Avg Per Visit</th>\n",
       "    </tr>\n",
       "  </thead>\n",
       "  <tbody>\n",
       "    <tr>\n",
       "      <th>count</th>\n",
       "      <td>50.00000</td>\n",
       "      <td>50.000000</td>\n",
       "      <td>50.000000</td>\n",
       "      <td>50.000000</td>\n",
       "    </tr>\n",
       "    <tr>\n",
       "      <th>mean</th>\n",
       "      <td>25.50000</td>\n",
       "      <td>31.560000</td>\n",
       "      <td>26.240000</td>\n",
       "      <td>2.748000</td>\n",
       "    </tr>\n",
       "    <tr>\n",
       "      <th>std</th>\n",
       "      <td>14.57738</td>\n",
       "      <td>12.000272</td>\n",
       "      <td>10.027635</td>\n",
       "      <td>0.898125</td>\n",
       "    </tr>\n",
       "    <tr>\n",
       "      <th>min</th>\n",
       "      <td>1.00000</td>\n",
       "      <td>15.000000</td>\n",
       "      <td>9.000000</td>\n",
       "      <td>1.100000</td>\n",
       "    </tr>\n",
       "    <tr>\n",
       "      <th>25%</th>\n",
       "      <td>13.25000</td>\n",
       "      <td>22.000000</td>\n",
       "      <td>19.000000</td>\n",
       "      <td>2.125000</td>\n",
       "    </tr>\n",
       "    <tr>\n",
       "      <th>50%</th>\n",
       "      <td>25.50000</td>\n",
       "      <td>30.000000</td>\n",
       "      <td>25.000000</td>\n",
       "      <td>2.750000</td>\n",
       "    </tr>\n",
       "    <tr>\n",
       "      <th>75%</th>\n",
       "      <td>37.75000</td>\n",
       "      <td>37.500000</td>\n",
       "      <td>32.750000</td>\n",
       "      <td>3.375000</td>\n",
       "    </tr>\n",
       "    <tr>\n",
       "      <th>max</th>\n",
       "      <td>50.00000</td>\n",
       "      <td>70.000000</td>\n",
       "      <td>48.000000</td>\n",
       "      <td>4.700000</td>\n",
       "    </tr>\n",
       "  </tbody>\n",
       "</table>\n",
       "</div>"
      ],
      "text/plain": [
       "        Cust ID        Age    Rentals  Avg Per Visit\n",
       "count  50.00000  50.000000  50.000000      50.000000\n",
       "mean   25.50000  31.560000  26.240000       2.748000\n",
       "std    14.57738  12.000272  10.027635       0.898125\n",
       "min     1.00000  15.000000   9.000000       1.100000\n",
       "25%    13.25000  22.000000  19.000000       2.125000\n",
       "50%    25.50000  30.000000  25.000000       2.750000\n",
       "75%    37.75000  37.500000  32.750000       3.375000\n",
       "max    50.00000  70.000000  48.000000       4.700000"
      ]
     },
     "execution_count": 7,
     "metadata": {},
     "output_type": "execute_result"
    }
   ],
   "source": [
    "# number 3.\n",
    "#For the continuous features, what are the average, median, maximum, and minimum values? What is the standard deviation?\n",
    "df.describe()"
   ]
  },
  {
   "cell_type": "markdown",
   "metadata": {},
   "source": [
    "# 4\n",
    "\n",
    "#### Perform the the following data preparation steps on the data (for each add a new column to the original table for comparison purposes)\n",
    "- Use smoothing by bin means to smooth the values of the Age attribute. Use a bin depth of 5.\n",
    "- Use min-max normalization to transform the values of the Income attribute onto the range [0.0-1.0].\n",
    "- Use z-score normalization to standardize the values of the Rentals attribute.\n",
    "- Discretize the (original, non-normalized) Income attribute based on the following categories: High = 60K+; Mid = 25K-59K; Low = less than $25K.*#"
   ]
  },
  {
   "cell_type": "code",
   "execution_count": 8,
   "metadata": {},
   "outputs": [],
   "source": [
    "#smooth the age attribute \n",
    "def mean_bins(column):\n",
    "    return ((column.left +column.right)/2)\n",
    "binned=pd.cut(df['Age'],11, precision=2)\n",
    "df['smooth_ages']= binned.apply(mean_bins).astype(float)\n",
    "\n",
    "# min-max normalization of income\n",
    "income_bins =[0, 25000, 59000, float(\"inf\")]\n",
    "income_bin_names=['Low', 'Mid', 'High']\n",
    "df['Incomes'] = df['Income'].astype(str).replace({'\\$': '', ',': ''}, regex=True)\n",
    "df['Incomes']= df['Incomes'].astype(int)\n",
    "df['Income_categories'] = pd.cut(df['Incomes'], bins =income_bins, labels= income_bin_names)\n",
    "\n",
    "#sklearn.preprocessing.MinMaxScaler() on Incomes\n",
    "from sklearn.preprocessing import minmax_scale\n",
    "df['mm_income']=  minmax_scale(df['Incomes'].astype(float), feature_range =(0.0,1.0))\n",
    "\n",
    "#use z-score normalization on rental attribute\n",
    "df['Rentalz']= sp.mstats.zscore(df['Rentals'])\n",
    "\n"
   ]
  },
  {
   "cell_type": "code",
   "execution_count": 9,
   "metadata": {},
   "outputs": [
    {
     "data": {
      "text/plain": [
       "array([22.5 , 32.5 , 17.47, 67.5 , 42.5 , 37.5 , 47.5 , 27.5 , 52.5 ,\n",
       "       57.5 ])"
      ]
     },
     "execution_count": 9,
     "metadata": {},
     "output_type": "execute_result"
    }
   ],
   "source": [
    "df['smooth_ages'].unique()"
   ]
  },
  {
   "cell_type": "markdown",
   "metadata": {},
   "source": [
    "# 5\n",
    "#### Convert the original table into the standard spreadsheet format. Note that this requires converting each categorical attribute into multiple attributes (one for each values of the categorical attribute) and assigning binary values corresponding to the presence or not presence of the attribute value in the original record). For example, the Gender attribute will be transformed into two attributes, \"Genre=M\" and \"Genre=F\". The numerical attributes will remain unchanged. This process should result in a new table with 12 attributes (one for Customer ID, two for Gender, one for each of Income, Age, Rentals, Avg. Per Visit, two for Incidentals, and three for Genre)."
   ]
  },
  {
   "cell_type": "code",
   "execution_count": 10,
   "metadata": {},
   "outputs": [
    {
     "data": {
      "text/html": [
       "<div>\n",
       "<style scoped>\n",
       "    .dataframe tbody tr th:only-of-type {\n",
       "        vertical-align: middle;\n",
       "    }\n",
       "\n",
       "    .dataframe tbody tr th {\n",
       "        vertical-align: top;\n",
       "    }\n",
       "\n",
       "    .dataframe thead th {\n",
       "        text-align: right;\n",
       "    }\n",
       "</style>\n",
       "<table border=\"1\" class=\"dataframe\">\n",
       "  <thead>\n",
       "    <tr style=\"text-align: right;\">\n",
       "      <th></th>\n",
       "      <th>Cust ID</th>\n",
       "      <th>Gender</th>\n",
       "      <th>Income</th>\n",
       "      <th>Age</th>\n",
       "      <th>Rentals</th>\n",
       "      <th>Avg Per Visit</th>\n",
       "      <th>Incidentals</th>\n",
       "      <th>Genre</th>\n",
       "      <th>smooth_ages</th>\n",
       "      <th>Incomes</th>\n",
       "      <th>Income_categories</th>\n",
       "      <th>mm_income</th>\n",
       "      <th>Rentalz</th>\n",
       "    </tr>\n",
       "  </thead>\n",
       "  <tbody>\n",
       "    <tr>\n",
       "      <th>0</th>\n",
       "      <td>1</td>\n",
       "      <td>1</td>\n",
       "      <td>$45,000</td>\n",
       "      <td>25</td>\n",
       "      <td>27</td>\n",
       "      <td>2.5</td>\n",
       "      <td>1</td>\n",
       "      <td>0</td>\n",
       "      <td>22.50</td>\n",
       "      <td>45000</td>\n",
       "      <td>2</td>\n",
       "      <td>0.500000</td>\n",
       "      <td>0.076560</td>\n",
       "    </tr>\n",
       "    <tr>\n",
       "      <th>1</th>\n",
       "      <td>2</td>\n",
       "      <td>0</td>\n",
       "      <td>$54,000</td>\n",
       "      <td>33</td>\n",
       "      <td>12</td>\n",
       "      <td>3.4</td>\n",
       "      <td>0</td>\n",
       "      <td>2</td>\n",
       "      <td>32.50</td>\n",
       "      <td>54000</td>\n",
       "      <td>2</td>\n",
       "      <td>0.602273</td>\n",
       "      <td>-1.434493</td>\n",
       "    </tr>\n",
       "    <tr>\n",
       "      <th>2</th>\n",
       "      <td>3</td>\n",
       "      <td>0</td>\n",
       "      <td>$32,000</td>\n",
       "      <td>20</td>\n",
       "      <td>42</td>\n",
       "      <td>1.6</td>\n",
       "      <td>0</td>\n",
       "      <td>1</td>\n",
       "      <td>17.47</td>\n",
       "      <td>32000</td>\n",
       "      <td>2</td>\n",
       "      <td>0.352273</td>\n",
       "      <td>1.587613</td>\n",
       "    </tr>\n",
       "    <tr>\n",
       "      <th>3</th>\n",
       "      <td>4</td>\n",
       "      <td>0</td>\n",
       "      <td>$59,000</td>\n",
       "      <td>70</td>\n",
       "      <td>16</td>\n",
       "      <td>4.2</td>\n",
       "      <td>1</td>\n",
       "      <td>2</td>\n",
       "      <td>67.50</td>\n",
       "      <td>59000</td>\n",
       "      <td>2</td>\n",
       "      <td>0.659091</td>\n",
       "      <td>-1.031546</td>\n",
       "    </tr>\n",
       "    <tr>\n",
       "      <th>4</th>\n",
       "      <td>5</td>\n",
       "      <td>1</td>\n",
       "      <td>$37,000</td>\n",
       "      <td>35</td>\n",
       "      <td>25</td>\n",
       "      <td>3.2</td>\n",
       "      <td>1</td>\n",
       "      <td>0</td>\n",
       "      <td>32.50</td>\n",
       "      <td>37000</td>\n",
       "      <td>2</td>\n",
       "      <td>0.409091</td>\n",
       "      <td>-0.124914</td>\n",
       "    </tr>\n",
       "  </tbody>\n",
       "</table>\n",
       "</div>"
      ],
      "text/plain": [
       "   Cust ID  Gender   Income  Age  Rentals  Avg Per Visit  Incidentals  Genre  \\\n",
       "0        1       1  $45,000   25       27            2.5            1      0   \n",
       "1        2       0  $54,000   33       12            3.4            0      2   \n",
       "2        3       0  $32,000   20       42            1.6            0      1   \n",
       "3        4       0  $59,000   70       16            4.2            1      2   \n",
       "4        5       1  $37,000   35       25            3.2            1      0   \n",
       "\n",
       "   smooth_ages  Incomes  Income_categories  mm_income   Rentalz  \n",
       "0        22.50    45000                  2   0.500000  0.076560  \n",
       "1        32.50    54000                  2   0.602273 -1.434493  \n",
       "2        17.47    32000                  2   0.352273  1.587613  \n",
       "3        67.50    59000                  2   0.659091 -1.031546  \n",
       "4        32.50    37000                  2   0.409091 -0.124914  "
      ]
     },
     "execution_count": 10,
     "metadata": {},
     "output_type": "execute_result"
    }
   ],
   "source": [
    "lb_make = LabelEncoder()\n",
    "df[\"Gender\"] = lb_make.fit_transform(df[\"Gender\"])\n",
    "df[\"Incidentals\"] = lb_make.fit_transform(df[\"Incidentals\"])\n",
    "df['Genre'] = lb_make.fit_transform(df[\"Genre\"])\n",
    "df['Income_categories'] = lb_make.fit_transform(df['Income_categories'])\n",
    "df.head()"
   ]
  },
  {
   "cell_type": "code",
   "execution_count": null,
   "metadata": {},
   "outputs": [],
   "source": []
  },
  {
   "cell_type": "markdown",
   "metadata": {},
   "source": [
    "# 6\n",
    "#### Using the standardized data set (from part 5), perform basic correlation analysis among the attributes. Discuss your results by indicating any strong correlations (positive or negative) among pairs of attributes. You need to construct a complete Correlation Matrix. Be sure to first remove the Customer ID column before creating the correlation matrix."
   ]
  },
  {
   "cell_type": "code",
   "execution_count": 11,
   "metadata": {},
   "outputs": [
    {
     "data": {
      "text/plain": [
       "Cust ID                int64\n",
       "Gender                 int32\n",
       "Income                object\n",
       "Age                    int64\n",
       "Rentals                int64\n",
       "Avg Per Visit        float64\n",
       "Incidentals            int32\n",
       "Genre                  int32\n",
       "smooth_ages          float64\n",
       "Incomes                int32\n",
       "Income_categories      int32\n",
       "mm_income            float64\n",
       "Rentalz              float64\n",
       "dtype: object"
      ]
     },
     "execution_count": 11,
     "metadata": {},
     "output_type": "execute_result"
    }
   ],
   "source": [
    "df.dtypes"
   ]
  },
  {
   "cell_type": "code",
   "execution_count": 12,
   "metadata": {},
   "outputs": [],
   "source": [
    "df2= df.drop(['Cust ID','Income','Rentals','Age'], axis =1)\n",
    "df2= df2[df2.columns].astype(float)"
   ]
  },
  {
   "cell_type": "code",
   "execution_count": 13,
   "metadata": {},
   "outputs": [
    {
     "data": {
      "text/html": [
       "<div>\n",
       "<style scoped>\n",
       "    .dataframe tbody tr th:only-of-type {\n",
       "        vertical-align: middle;\n",
       "    }\n",
       "\n",
       "    .dataframe tbody tr th {\n",
       "        vertical-align: top;\n",
       "    }\n",
       "\n",
       "    .dataframe thead th {\n",
       "        text-align: right;\n",
       "    }\n",
       "</style>\n",
       "<table border=\"1\" class=\"dataframe\">\n",
       "  <thead>\n",
       "    <tr style=\"text-align: right;\">\n",
       "      <th></th>\n",
       "      <th>Gender</th>\n",
       "      <th>Avg Per Visit</th>\n",
       "      <th>Incidentals</th>\n",
       "      <th>Genre</th>\n",
       "      <th>smooth_ages</th>\n",
       "      <th>Incomes</th>\n",
       "      <th>Income_categories</th>\n",
       "      <th>mm_income</th>\n",
       "      <th>Rentalz</th>\n",
       "    </tr>\n",
       "  </thead>\n",
       "  <tbody>\n",
       "    <tr>\n",
       "      <th>Gender</th>\n",
       "      <td>1.000000</td>\n",
       "      <td>-0.029176</td>\n",
       "      <td>0.198718</td>\n",
       "      <td>-0.323617</td>\n",
       "      <td>-0.243500</td>\n",
       "      <td>-0.063841</td>\n",
       "      <td>-0.068571</td>\n",
       "      <td>-0.063841</td>\n",
       "      <td>-0.025164</td>\n",
       "    </tr>\n",
       "    <tr>\n",
       "      <th>Avg Per Visit</th>\n",
       "      <td>-0.029176</td>\n",
       "      <td>1.000000</td>\n",
       "      <td>0.078885</td>\n",
       "      <td>0.144754</td>\n",
       "      <td>0.360612</td>\n",
       "      <td>0.305221</td>\n",
       "      <td>-0.140638</td>\n",
       "      <td>0.305221</td>\n",
       "      <td>0.070302</td>\n",
       "    </tr>\n",
       "    <tr>\n",
       "      <th>Incidentals</th>\n",
       "      <td>0.198718</td>\n",
       "      <td>0.078885</td>\n",
       "      <td>1.000000</td>\n",
       "      <td>-0.231680</td>\n",
       "      <td>-0.243400</td>\n",
       "      <td>-0.063841</td>\n",
       "      <td>0.032269</td>\n",
       "      <td>-0.063841</td>\n",
       "      <td>0.297452</td>\n",
       "    </tr>\n",
       "    <tr>\n",
       "      <th>Genre</th>\n",
       "      <td>-0.323617</td>\n",
       "      <td>0.144754</td>\n",
       "      <td>-0.231680</td>\n",
       "      <td>1.000000</td>\n",
       "      <td>0.531919</td>\n",
       "      <td>0.364512</td>\n",
       "      <td>0.123799</td>\n",
       "      <td>0.364512</td>\n",
       "      <td>-0.343508</td>\n",
       "    </tr>\n",
       "    <tr>\n",
       "      <th>smooth_ages</th>\n",
       "      <td>-0.243500</td>\n",
       "      <td>0.360612</td>\n",
       "      <td>-0.243400</td>\n",
       "      <td>0.531919</td>\n",
       "      <td>1.000000</td>\n",
       "      <td>0.598121</td>\n",
       "      <td>0.078422</td>\n",
       "      <td>0.598121</td>\n",
       "      <td>-0.569052</td>\n",
       "    </tr>\n",
       "    <tr>\n",
       "      <th>Incomes</th>\n",
       "      <td>-0.063841</td>\n",
       "      <td>0.305221</td>\n",
       "      <td>-0.063841</td>\n",
       "      <td>0.364512</td>\n",
       "      <td>0.598121</td>\n",
       "      <td>1.000000</td>\n",
       "      <td>-0.347516</td>\n",
       "      <td>1.000000</td>\n",
       "      <td>-0.274873</td>\n",
       "    </tr>\n",
       "    <tr>\n",
       "      <th>Income_categories</th>\n",
       "      <td>-0.068571</td>\n",
       "      <td>-0.140638</td>\n",
       "      <td>0.032269</td>\n",
       "      <td>0.123799</td>\n",
       "      <td>0.078422</td>\n",
       "      <td>-0.347516</td>\n",
       "      <td>1.000000</td>\n",
       "      <td>-0.347516</td>\n",
       "      <td>-0.069325</td>\n",
       "    </tr>\n",
       "    <tr>\n",
       "      <th>mm_income</th>\n",
       "      <td>-0.063841</td>\n",
       "      <td>0.305221</td>\n",
       "      <td>-0.063841</td>\n",
       "      <td>0.364512</td>\n",
       "      <td>0.598121</td>\n",
       "      <td>1.000000</td>\n",
       "      <td>-0.347516</td>\n",
       "      <td>1.000000</td>\n",
       "      <td>-0.274873</td>\n",
       "    </tr>\n",
       "    <tr>\n",
       "      <th>Rentalz</th>\n",
       "      <td>-0.025164</td>\n",
       "      <td>0.070302</td>\n",
       "      <td>0.297452</td>\n",
       "      <td>-0.343508</td>\n",
       "      <td>-0.569052</td>\n",
       "      <td>-0.274873</td>\n",
       "      <td>-0.069325</td>\n",
       "      <td>-0.274873</td>\n",
       "      <td>1.000000</td>\n",
       "    </tr>\n",
       "  </tbody>\n",
       "</table>\n",
       "</div>"
      ],
      "text/plain": [
       "                     Gender  Avg Per Visit  Incidentals     Genre  \\\n",
       "Gender             1.000000      -0.029176     0.198718 -0.323617   \n",
       "Avg Per Visit     -0.029176       1.000000     0.078885  0.144754   \n",
       "Incidentals        0.198718       0.078885     1.000000 -0.231680   \n",
       "Genre             -0.323617       0.144754    -0.231680  1.000000   \n",
       "smooth_ages       -0.243500       0.360612    -0.243400  0.531919   \n",
       "Incomes           -0.063841       0.305221    -0.063841  0.364512   \n",
       "Income_categories -0.068571      -0.140638     0.032269  0.123799   \n",
       "mm_income         -0.063841       0.305221    -0.063841  0.364512   \n",
       "Rentalz           -0.025164       0.070302     0.297452 -0.343508   \n",
       "\n",
       "                   smooth_ages   Incomes  Income_categories  mm_income  \\\n",
       "Gender               -0.243500 -0.063841          -0.068571  -0.063841   \n",
       "Avg Per Visit         0.360612  0.305221          -0.140638   0.305221   \n",
       "Incidentals          -0.243400 -0.063841           0.032269  -0.063841   \n",
       "Genre                 0.531919  0.364512           0.123799   0.364512   \n",
       "smooth_ages           1.000000  0.598121           0.078422   0.598121   \n",
       "Incomes               0.598121  1.000000          -0.347516   1.000000   \n",
       "Income_categories     0.078422 -0.347516           1.000000  -0.347516   \n",
       "mm_income             0.598121  1.000000          -0.347516   1.000000   \n",
       "Rentalz              -0.569052 -0.274873          -0.069325  -0.274873   \n",
       "\n",
       "                    Rentalz  \n",
       "Gender            -0.025164  \n",
       "Avg Per Visit      0.070302  \n",
       "Incidentals        0.297452  \n",
       "Genre             -0.343508  \n",
       "smooth_ages       -0.569052  \n",
       "Incomes           -0.274873  \n",
       "Income_categories -0.069325  \n",
       "mm_income         -0.274873  \n",
       "Rentalz            1.000000  "
      ]
     },
     "execution_count": 13,
     "metadata": {},
     "output_type": "execute_result"
    }
   ],
   "source": [
    "corr = df2.corr()\n",
    "df2.corr()"
   ]
  },
  {
   "cell_type": "code",
   "execution_count": 14,
   "metadata": {},
   "outputs": [
    {
     "data": {
      "image/png": "[encoded data removed]",
      "text/plain": [
       "<Figure size 432x288 with 2 Axes>"
      ]
     },
     "metadata": {
      "needs_background": "light"
     },
     "output_type": "display_data"
    }
   ],
   "source": [
    "ax = sns.heatmap(corr)"
   ]
  },
  {
   "cell_type": "code",
   "execution_count": null,
   "metadata": {},
   "outputs": [],
   "source": []
  }
 ],
 "metadata": {
  "kernelspec": {
   "display_name": "Python 3",
   "language": "python",
   "name": "python3"
  },
  "language_info": {
   "codemirror_mode": {
    "name": "ipython",
    "version": 3
   },
   "file_extension": ".py",
   "mimetype": "text/x-python",
   "name": "python",
   "nbconvert_exporter": "python",
   "pygments_lexer": "ipython3",
   "version": "3.7.1"
  }
 },
 "nbformat": 4,
 "nbformat_minor": 2
}
